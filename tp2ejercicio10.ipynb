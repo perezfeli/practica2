{
 "cells": [
  {
   "cell_type": "markdown",
   "id": "efad85a9-6ba0-4ee4-b4c2-3640364daaa0",
   "metadata": {},
   "source": [
    "CARGO LA INFORMACION DE LAS RONDAS"
   ]
  },
  {
   "cell_type": "code",
   "execution_count": null,
   "id": "78cbebf2-6750-4f71-b247-a25394e912d3",
   "metadata": {},
   "outputs": [],
   "source": [
    "from src.funciones import ingresardatos\n",
    "rounds = ingresardatos()"
   ]
  },
  {
   "cell_type": "markdown",
   "id": "275cdb68-a9d3-4230-a5d3-5da0427a4304",
   "metadata": {},
   "source": [
    "INICIALIZO LAS PUNTACIONES EN 0 PARA IRLAS ACTUALIZANDO RONDA POR RONDA"
   ]
  },
  {
   "cell_type": "code",
   "execution_count": 4,
   "id": "bb2a08aa-d06d-4d56-b718-4ed60edd9852",
   "metadata": {},
   "outputs": [],
   "source": [
    "puntuacion_actual = {\n",
    "'Shadow': {'kills': 0, 'assists': 0, 'deaths': 0, 'points': 0, 'MVPs': 0},\n",
    "'Blaze': {'kills': 0, 'assists': 0, 'deaths': 0, 'points': 0, 'MVPs': 0},\n",
    "'Viper': {'kills': 0, 'assists': 0, 'deaths': 0, 'points': 0, 'MVPs': 0},\n",
    "'Frost': {'kills': 0, 'assists': 0, 'deaths': 0, 'points': 0, 'MVPs': 0},\n",
    "'Reaper':{'kills': 0, 'assists': 0, 'deaths': 0, 'points': 0, 'MVPs': 0},\n",
    "}"
   ]
  },
  {
   "cell_type": "markdown",
   "id": "673c5149-9c1a-4605-9ad0-1a8584a59651",
   "metadata": {},
   "source": [
    "INICIALIZO EL NUMERO DE RONDA"
   ]
  },
  {
   "cell_type": "code",
   "execution_count": 6,
   "id": "be7f8be5-2340-4ffe-96f8-2264b7f6b44b",
   "metadata": {},
   "outputs": [],
   "source": [
    "numero_ronda = 0"
   ]
  },
  {
   "cell_type": "markdown",
   "id": "68837236-a44d-4443-9bd2-25527c4ce576",
   "metadata": {},
   "source": [
    "PARA CADA RONDA"
   ]
  },
  {
   "cell_type": "code",
   "execution_count": 8,
   "id": "fb3f084d-fbe6-4de3-9478-65fa81bcf9d3",
   "metadata": {},
   "outputs": [
    {
     "name": "stdout",
     "output_type": "stream",
     "text": [
      "\n",
      "Ronda 1:\n",
      "MVP: Shadow\n",
      "Ranking:\n",
      "Jugador         Kills       Asistencias Muertes   MVPs  Puntos\n",
      "---------------------------------------------------------------\n",
      "Shadow            2              1         1       1       6\n",
      "Viper             1              2         1       0       4\n",
      "Reaper            1              1         0       0       4\n",
      "Blaze             1              0         0       0       3\n",
      "Frost             0              1         0       0       1\n",
      "---------------------------------------------------------------\n",
      "\n",
      "Ronda 2:\n",
      "MVP: Frost\n",
      "Ranking:\n",
      "Jugador         Kills       Asistencias Muertes   MVPs  Puntos\n",
      "---------------------------------------------------------------\n",
      "Shadow            2              3         1       1       8\n",
      "Blaze             3              0         1       0       8\n",
      "Viper             2              3         1       0       8\n",
      "Frost             2              2         1       1       7\n",
      "Reaper            1              2         0       0       5\n",
      "---------------------------------------------------------------\n",
      "\n",
      "Ronda 3:\n",
      "MVP: Blaze\n",
      "Ranking:\n",
      "Jugador         Kills       Asistencias Muertes   MVPs  Puntos\n",
      "---------------------------------------------------------------\n",
      "Blaze             5              2         2       1      15\n",
      "Shadow            3              3         1       1      11\n",
      "Viper             3              4         2       0      11\n",
      "Reaper            2              3         0       0       9\n",
      "Frost             2              3         1       1       8\n",
      "---------------------------------------------------------------\n",
      "\n",
      "Ronda 4:\n",
      "MVP: Shadow\n",
      "Ranking:\n",
      "Jugador         Kills       Asistencias Muertes   MVPs  Puntos\n",
      "---------------------------------------------------------------\n",
      "Shadow            5              4         1       2      18\n",
      "Blaze             6              2         3       1      17\n",
      "Viper             3              6         2       0      13\n",
      "Reaper            3              4         0       0      13\n",
      "Frost             3              4         2       1      11\n",
      "---------------------------------------------------------------\n",
      "\n",
      "Ronda Final:\n",
      "MVP: Viper\n",
      "Ranking:\n",
      "Jugador         Kills       Asistencias Muertes   MVPs  Puntos\n",
      "---------------------------------------------------------------\n",
      "Shadow            6              6         2       2      22\n",
      "Blaze             6              3         3       1      18\n",
      "Viper             5              6         3       1      18\n",
      "Reaper            4              5         1       0      16\n",
      "Frost             4              5         2       1      15\n",
      "---------------------------------------------------------------\n"
     ]
    }
   ],
   "source": [
    "for round in rounds:\n",
    "    numero_ronda += 1 # SE SUMA LA RONDA\n",
    "    puntosMVP = 0 # SE REINICIAN LOS PUNTOS DEL MVP\n",
    "    for jugador, estadistica in round.items(): # VA YENDO POR CADA JUGADOR\n",
    "        puntuacion_actual[jugador]['kills'] += estadistica['kills'] # ACTUALIZO LA INFO DEL JUGADOR SEGUN KILLS\n",
    "        puntuacion_actual[jugador]['assists'] += estadistica['assists'] # ACTUALIZO LA INFO DEL JUGADOR SEGUN ASISTENCIAS\n",
    "        puntuacion_actual[jugador]['deaths'] += int(estadistica['deaths']) # ACTUALIZO LA INFO DEL JUGADOR SEGUN MUERTES\n",
    "        puntos_jugador = (estadistica['kills']*3) + (estadistica['assists'] - (int(estadistica['deaths'])))\n",
    "        puntuacion_actual[jugador]['points'] += puntos_jugador\n",
    "        if (puntos_jugador>puntosMVP): # SI LOS PUNTOS DEL JUGADOR EN LA RONDA SON MAYORES A LOS OTROS COMPAÑEROS\n",
    "            puntosMVP = puntos_jugador\n",
    "            MVP = jugador\n",
    "    puntuacion_actual[MVP]['MVPs'] += 1 # SE LE AGREGA UN MVP AL MVP DE LA RONDA\n",
    "    print(\"\")\n",
    "    if (numero_ronda<5):\n",
    "        print(f\"Ronda {numero_ronda}:\")\n",
    "    else:\n",
    "        print(\"Ronda Final:\")\n",
    "    print(f\"MVP: {MVP}\")\n",
    "    print (\"Ranking:\")\n",
    "    print(\"Jugador         Kills       Asistencias Muertes   MVPs  Puntos\")\n",
    "    print(\"---------------------------------------------------------------\")\n",
    "    # ORDENAR EL RANKING EN ORDEN DECRECIENTE SEGUN PUNTOS\n",
    "    ranking_ordenado = sorted(puntuacion_actual.items(), key=lambda x: x[1]['points'], reverse=True)\n",
    "    for jugador, estadistica in ranking_ordenado:\n",
    "        print(f\"{jugador:<12} {estadistica['kills']:>6} {estadistica['assists']:>14} {estadistica['deaths']:>9} {estadistica['MVPs']:>7} {estadistica['points']:>7}\")\n",
    "    print(\"---------------------------------------------------------------\")"
   ]
  },
  {
   "cell_type": "code",
   "execution_count": null,
   "id": "5255f2e3-7b76-449a-900e-3e875f082ffb",
   "metadata": {},
   "outputs": [],
   "source": []
  }
 ],
 "metadata": {
  "kernelspec": {
   "display_name": "Python [conda env:base] *",
   "language": "python",
   "name": "conda-base-py"
  },
  "language_info": {
   "codemirror_mode": {
    "name": "ipython",
    "version": 3
   },
   "file_extension": ".py",
   "mimetype": "text/x-python",
   "name": "python",
   "nbconvert_exporter": "python",
   "pygments_lexer": "ipython3",
   "version": "3.12.7"
  }
 },
 "nbformat": 4,
 "nbformat_minor": 5
}
