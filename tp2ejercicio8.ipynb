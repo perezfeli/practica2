{
 "cells": [
  {
   "cell_type": "code",
   "execution_count": null,
   "id": "20fd2574-0d2a-4e47-b640-164d3bec73dd",
   "metadata": {},
   "outputs": [],
   "source": [
    "primera = input(\"Ingrese la primera palabra: \").lower\n",
    "segunda = input(\"Ingrese la segunda palabra: \").lower # LEE LAS PALABRAS\n",
    "\n",
    "if sorted(primera) == sorted(segunda):\n",
    "    print(\"Son anagramas\")\n",
    "else:\n",
    "    print(\"No son anagramas\")"
   ]
  }
 ],
 "metadata": {
  "kernelspec": {
   "display_name": "Python [conda env:base] *",
   "language": "python",
   "name": "conda-base-py"
  },
  "language_info": {
   "codemirror_mode": {
    "name": "ipython",
    "version": 3
   },
   "file_extension": ".py",
   "mimetype": "text/x-python",
   "name": "python",
   "nbconvert_exporter": "python",
   "pygments_lexer": "ipython3",
   "version": "3.12.7"
  }
 },
 "nbformat": 4,
 "nbformat_minor": 5
}
