{
 "cells": [
  {
   "cell_type": "code",
   "execution_count": null,
   "id": "3c161cc0-2d1c-47d3-9a98-6dd8ff80dbf6",
   "metadata": {},
   "outputs": [],
   "source": [
    "velocidad = int (input(\"Ingrese la velocidad en ms: \"))\n",
    "if (velocidad < 200):\n",
    "    print(\"Categoria: rapido\")\n",
    "elif ( 200 < velocidad < 500 ):\n",
    "    print(\"Categoria: normal\")\n",
    "else:\n",
    "    print(\"Categoria: lento\")"
   ]
  }
 ],
 "metadata": {
  "kernelspec": {
   "display_name": "Python [conda env:base] *",
   "language": "python",
   "name": "conda-base-py"
  },
  "language_info": {
   "codemirror_mode": {
    "name": "ipython",
    "version": 3
   },
   "file_extension": ".py",
   "mimetype": "text/x-python",
   "name": "python",
   "nbconvert_exporter": "python",
   "pygments_lexer": "ipython3",
   "version": "3.12.7"
  }
 },
 "nbformat": 4,
 "nbformat_minor": 5
}
