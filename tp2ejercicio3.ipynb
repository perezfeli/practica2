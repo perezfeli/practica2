{
 "cells": [
  {
   "cell_type": "code",
   "execution_count": null,
   "id": "d92ff26d-fceb-4bd4-a415-c01393ae53dc",
   "metadata": {},
   "outputs": [],
   "source": [
    "rules = \"\"\"Respeta a los demás. No se permiten insultos ni lenguaje ofensivo.\n",
    "Evita el spam. No publiques enlaces sospechosos o repetitivos.\n",
    "No compartas información personal.\n",
    "Usa los canales adecuados para cada tema.\n",
    "Sigue las instrucciones de los moderadores.\"\"\"\n",
    "\n",
    "aux = input(\"Ingrese palabra clave: \") # SE INGRESA LA PALABRA CLAVE POR TECLADO\n",
    "for line in rules.split(\"\\n\"): # PARA CADA LINEA EN LAS REGLAS\n",
    "    word = line.split() # SEPARA LAS PALABRAS\n",
    "    for act in word: # SE RECORRE CADA PALABRA DE LA LINEA Y SE ALMACENA EN ACT\n",
    "        if act.lower() == aux.lower(): # COMPARA LA INGRESADA CON LA ACT Y SI SON IGUALES IMPRIME Y PASA A LA REGLA SIGUIENTE\n",
    "            print(line)\n",
    "            break"
   ]
  }
 ],
 "metadata": {
  "kernelspec": {
   "display_name": "Python [conda env:base] *",
   "language": "python",
   "name": "conda-base-py"
  },
  "language_info": {
   "codemirror_mode": {
    "name": "ipython",
    "version": 3
   },
   "file_extension": ".py",
   "mimetype": "text/x-python",
   "name": "python",
   "nbconvert_exporter": "python",
   "pygments_lexer": "ipython3",
   "version": "3.12.7"
  }
 },
 "nbformat": 4,
 "nbformat_minor": 5
}
