{
 "cells": [
  {
   "cell_type": "code",
   "execution_count": null,
   "id": "ec0508ea-fb23-4ee0-895a-a09f78e5d251",
   "metadata": {},
   "outputs": [],
   "source": [
    "import string\n",
    "import random\n",
    "\n",
    "name = input(\"Ingrese el nombre: \") # SE LEE EL NOMBRE\n",
    "\n",
    "while len(name) > 15: # SI TIENE MAS DE 15 CARACTERES PIDE QUE SE INGRESE UNO NUEVO\n",
    "    name = input(\"Ingrese un nombre con menos de 15 letras\")\n",
    "\n",
    "fecha = input(\"Ingrese la fecha actual:\") # TE PIDE LA FECHA\n",
    "\n",
    "aleatorio = ''.join(random.choices(string.ascii_uppercase + string.digits, k=15)) # ELIGE LOS CARACTERES RANDOM PARA EL FINAL\n",
    "codigo =  name + fecha + aleatorio # JUNTA TODOS LOS DATOS\n",
    "print(f\"El codigo es: {codigo}\")"
   ]
  }
 ],
 "metadata": {
  "kernelspec": {
   "display_name": "Python [conda env:base] *",
   "language": "python",
   "name": "conda-base-py"
  },
  "language_info": {
   "codemirror_mode": {
    "name": "ipython",
    "version": 3
   },
   "file_extension": ".py",
   "mimetype": "text/x-python",
   "name": "python",
   "nbconvert_exporter": "python",
   "pygments_lexer": "ipython3",
   "version": "3.12.7"
  }
 },
 "nbformat": 4,
 "nbformat_minor": 5
}
