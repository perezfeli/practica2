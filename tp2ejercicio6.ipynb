{
 "cells": [
  {
   "cell_type": "code",
   "execution_count": null,
   "id": "3183fb81-ece1-46a8-a1ec-32b1ca947ccd",
   "metadata": {},
   "outputs": [],
   "source": [
    "descriptions = [\n",
    "\"Streaming de música en vivo con covers y composiciones\",\n",
    "\"Charla interactiva con la audiencia sobre series y películas\",\n",
    "\"Jugamos a juegos retro y charlamos sobre su historia\",\n",
    "\"Exploramos la mejor música de los 80s y 90s\",\n",
    "\"Sesión de charla con invitados especiales del mundo del streaming\",\n",
    "\"Música en directo con improvisaciones y peticiones del chat\",\n",
    "\"Un espacio para charlar relajada sobre tecnología y cultura digital\",\n",
    "\"Hola probando charla charla charla charla charla charla charla\"\n",
    "]\n",
    "\n",
    "# CONTADORES DE LAS MENCIONES DE LAS DIFERENTES PALABRAS\n",
    "mus = 0\n",
    "cha = 0\n",
    "ent = 0\n",
    "\n",
    "for line in descriptions: # PARA CADA DESCRIPCION\n",
    "    word = line.split()\n",
    "    for act in word: # PARA CADA PALABRA EN CADA DESCRIPCION\n",
    "     if (act.lower() == \"música\"):\n",
    "          mus = mus + 1\n",
    "     if (act.lower() == \"charla\"):\n",
    "          cha = cha + 1\n",
    "     if (act.lower() == \"entretenimiento\"):\n",
    "          ent = ent + 1\n",
    "print(f\"Menciones de 'música': {mus}\")\n",
    "print(f\"Menciones de 'charla': {cha}\")\n",
    "print(f\"Menciones de 'entretenimiento': {ent}\")"
   ]
  }
 ],
 "metadata": {
  "kernelspec": {
   "display_name": "Python [conda env:base] *",
   "language": "python",
   "name": "conda-base-py"
  },
  "language_info": {
   "codemirror_mode": {
    "name": "ipython",
    "version": 3
   },
   "file_extension": ".py",
   "mimetype": "text/x-python",
   "name": "python",
   "nbconvert_exporter": "python",
   "pygments_lexer": "ipython3",
   "version": "3.12.7"
  }
 },
 "nbformat": 4,
 "nbformat_minor": 5
}
