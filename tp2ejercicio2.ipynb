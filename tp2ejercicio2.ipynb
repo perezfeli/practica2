{
 "cells": [
  {
   "cell_type": "code",
   "execution_count": null,
   "id": "a9ba0999-a72c-4533-a5b5-790025d3360c",
   "metadata": {},
   "outputs": [],
   "source": [
    "titles = [\n",
    "\"Speedrun de Super Mario en tiempo récord mundial el mejor del mundo\",\n",
    "\"Charla sobre desarrollo de videojuegos\",\n",
    "\"Jugando al nuevo FPS del momento con amigos\",\n",
    "\"Música en vivo: improvisaciones al piano\",\n",
    "\"Jugando a un juego re copado que es muy largo\"\n",
    "]\n",
    "\n",
    "max = 0\n",
    "\n",
    "for text in titles:\n",
    "    words = text.split() # SEPARA EL TITULO EN PALABRAS SEPARADAS\n",
    "    if len(words) > max: # SI TIENE MAS QUE EL MAXIMO\n",
    "        max = len(words)\n",
    "        act = text # ACTUALIZAMOS\n",
    "print(act) # IMPRIME EL MAXIMO"
   ]
  }
 ],
 "metadata": {
  "kernelspec": {
   "display_name": "Python [conda env:base] *",
   "language": "python",
   "name": "conda-base-py"
  },
  "language_info": {
   "codemirror_mode": {
    "name": "ipython",
    "version": 3
   },
   "file_extension": ".py",
   "mimetype": "text/x-python",
   "name": "python",
   "nbconvert_exporter": "python",
   "pygments_lexer": "ipython3",
   "version": "3.12.7"
  }
 },
 "nbformat": 4,
 "nbformat_minor": 5
}
