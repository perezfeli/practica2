{
 "cells": [
  {
   "cell_type": "code",
   "execution_count": null,
   "id": "c4704747-1ec6-424d-be3d-cd42589ff662",
   "metadata": {},
   "outputs": [],
   "source": [
    "# LISTA INICIAL DE CLIENTES\n",
    "clients = [\n",
    "\" Ana López \", \"Pedro Gómez\", \"maria martínez\", \"Pedro Gómez \", \"\",\n",
    "\" Luis Rodríguez \", None, \"ana lópez\", \"JUAN PÉREZ\", \"MARTA SUÁREZ\",\n",
    "\"luis rodríguez\", \"maría martínez \", \" claudia torres\", \"CLAUDIA TORRES\",\n",
    "\" \", \"pedro gómez\", \"Juan Pérez\", None, \"Ricardo Fernández\", \"LAURA RAMOS\",\n",
    "\"carlos mendes\", \"RICARDO FERNÁNDEZ \", \" Laura ramos\", \"CARLOS MENDES\",\n",
    "\"alejandro gonzález\", \" ALEJANDRO GONZÁLEZ \", \"Patricia Vega\",\n",
    "\"patricia VEGA\", \"Andrés Ocampo\", \" andrés ocampo\", \"Monica Herrera\",\n",
    "\"MONICA HERRERA \", \"gabriela ruíz\", \"Gabriela Ruíz\", \"sandra morales\",\n",
    "\"SANDRA MORALES\", \"miguel ángel\", \"Miguel Ángel \", \" Damián Castillo\",\n",
    "\"Damián Castillo \", None, \"\", \" \"\n",
    "]\n",
    "\n",
    "# STRIP PARA ELIMINAR LOS ESPACIOS EN BLANCO\n",
    "# TITLE PARA PONER LA PRIMERA LETRA ES MAYUS Y EL RESTO EN MINUSCULA\n",
    "# IF CLIENT ELIMINA LOS NONE Y LOS ESPACIOS EN BLANCO\n",
    "# SET LIMPIA LOS REPETIDOS\n",
    "\n",
    "clients = list(set(cliente.strip().title() for cliente in clients if cliente and cliente.strip()))\n",
    "\n",
    "# IMPRIME LA LISTA FINAL\n",
    "print(clients)\n"
   ]
  }
 ],
 "metadata": {
  "kernelspec": {
   "display_name": "Python [conda env:base] *",
   "language": "python",
   "name": "conda-base-py"
  },
  "language_info": {
   "codemirror_mode": {
    "name": "ipython",
    "version": 3
   },
   "file_extension": ".py",
   "mimetype": "text/x-python",
   "name": "python",
   "nbconvert_exporter": "python",
   "pygments_lexer": "ipython3",
   "version": "3.12.7"
  }
 },
 "nbformat": 4,
 "nbformat_minor": 5
}
