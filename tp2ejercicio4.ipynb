{
 "cells": [
  {
   "cell_type": "code",
   "execution_count": null,
   "id": "007df29d-5cc2-4cdb-92a6-fbd44c6282ae",
   "metadata": {},
   "outputs": [],
   "source": [
    "while True:\n",
    "    tiene_numero = False\n",
    "    tiene_mayuscula = False \n",
    "    solo_letras_numeros = True\n",
    "    \n",
    "    name = input(\"Ingrese el nombre de usuario: \")\n",
    "\n",
    "    for char in name:\n",
    "        if char.isdigit():\n",
    "            tiene_numero = True # COMPRUEBA SI EL CARACTER ES UN NUMERO\n",
    "        if char.isupper():\n",
    "            tiene_mayuscula = True # COMPRUEBA SI EL CARACTER ES UNA MAYUSCULA\n",
    "        if not char.isalnum():\n",
    "            solo_letras_numeros = False # COMPRUEBA SI EL CARACTER NO ES UNA LETRA O NUMERO\n",
    "\n",
    "    if len(name) >= 5 and tiene_numero and tiene_mayuscula and solo_letras_numeros: # SE FIJA SI TIENE MAS DE 5 CARACTERES Y CUMPLE LAS OTRAS ESPECIFICACIONES\n",
    "        print(\"Usuario aceptado!\")\n",
    "        break\n",
    "    else: \n",
    "        print(\"Usuario incorrecto, intente nuevamente\") \n"
   ]
  }
 ],
 "metadata": {
  "kernelspec": {
   "display_name": "Python [conda env:base] *",
   "language": "python",
   "name": "conda-base-py"
  },
  "language_info": {
   "codemirror_mode": {
    "name": "ipython",
    "version": 3
   },
   "file_extension": ".py",
   "mimetype": "text/x-python",
   "name": "python",
   "nbconvert_exporter": "python",
   "pygments_lexer": "ipython3",
   "version": "3.12.7"
  }
 },
 "nbformat": 4,
 "nbformat_minor": 5
}
